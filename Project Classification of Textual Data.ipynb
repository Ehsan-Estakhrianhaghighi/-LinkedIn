{
  "nbformat": 4,
  "nbformat_minor": 0,
  "metadata": {
    "colab": {
      "provenance": [],
      "toc_visible": true
    },
    "kernelspec": {
      "name": "python3",
      "display_name": "Python 3"
    },
    "language_info": {
      "name": "python"
    }
  },
  "cells": [
    {
      "cell_type": "markdown",
      "source": [
        "<h1><center> Classification of Textual Data </center></h1>\n",
        "<h3><center> Alireza Seyedkanani, Ehsan Estakhrianhaghighi, Mohammadali Rastak  </h3></center>\n",
        "<h3><center> March 7 2022 </h3></center>\n",
        "<center> This code is for the first dataset, i.e. 20 news groups dataset. For the second dataset please refer to the corresponding code. </</center>"
      ],
      "metadata": {
        "id": "GAKwYdc-Hm-q"
      }
    },
    {
      "cell_type": "markdown",
      "source": [
        "# Preamble\n",
        "\n",
        "We import the required packages."
      ],
      "metadata": {
        "id": "WDIPkHXwI7kE"
      }
    },
    {
      "cell_type": "code",
      "source": [
        "# importing the necessary packages\n",
        "import numpy as np\n",
        "from scipy.sparse import csr_matrix\n",
        "import pandas as pd\n",
        "import matplotlib.pyplot as plt\n",
        "from sklearn.feature_extraction.text import CountVectorizer, TfidfVectorizer\n",
        "from sklearn.feature_extraction.text import TfidfVectorizer, TfidfTransformer\n",
        "from sklearn.pipeline import Pipeline\n",
        "from google.colab import files\n",
        "from sklearn.model_selection import GridSearchCV\n",
        "from sklearn.linear_model import LogisticRegression\n",
        "from sklearn.metrics import confusion_matrix, classification_report"
      ],
      "metadata": {
        "id": "rRnRWz5_In6z"
      },
      "execution_count": null,
      "outputs": []
    },
    {
      "cell_type": "markdown",
      "source": [
        "# Task 1: Acquire, preprocess, and analyze the data\n",
        "\n",
        "Herein, we import the data from sklearn datasets. The train and test sets have already been specified. We first get to know the dataset by cheking the sizes of the train and target sets, the number of class labels, target names, class distributions, etc."
      ],
      "metadata": {
        "id": "jmhcMXRhKrMN"
      }
    },
    {
      "cell_type": "markdown",
      "source": [
        "## Importing data"
      ],
      "metadata": {
        "id": "whs__YDdTEXk"
      }
    },
    {
      "cell_type": "code",
      "source": [
        "from sklearn.datasets import fetch_20newsgroups as newsgroup\n",
        "\n",
        "corpus_train = newsgroup(subset='train', remove=(['headers', 'footers', 'quotes']))\n",
        "corpus_test = newsgroup(subset='test', remove=(['headers', 'footers', 'quotes']))\n",
        "\n",
        "# In case of selecting specific categories\n",
        "#categories = ['alt.atheism', 'soc.religion.christian', 'comp.graphics', 'sci.med']\n",
        "#corpus_train = newsgroup(subset='train', categories=categories, remove=(['headers', 'footers', 'quotes']))\n",
        "#corpus_test = newsgroup(subset='test', categories=categories, remove=(['headers', 'footers', 'quotes']))\n",
        "\n",
        "print('Number of the documents in the train dataset = ', len(corpus_train.data))\n",
        "print('Number of the documents in the test dataset = ', len(corpus_test.data))\n",
        "print('Number of class labels = ', len(corpus_train.target_names))\n",
        "print('\\nClass labels:')\n",
        "list(corpus_train.target_names)"
      ],
      "metadata": {
        "colab": {
          "base_uri": "https://localhost:8080/"
        },
        "id": "lPQjMDj-K0lk",
        "outputId": "2bc1793f-7795-4753-9cdb-d0bf7137249b"
      },
      "execution_count": null,
      "outputs": [
        {
          "output_type": "stream",
          "name": "stdout",
          "text": [
            "Number of the documents in the train dataset =  11314\n",
            "Number of the documents in the test dataset =  7532\n",
            "Number of class labels =  20\n",
            "\n",
            "Class labels:\n"
          ]
        },
        {
          "output_type": "execute_result",
          "data": {
            "text/plain": [
              "['alt.atheism',\n",
              " 'comp.graphics',\n",
              " 'comp.os.ms-windows.misc',\n",
              " 'comp.sys.ibm.pc.hardware',\n",
              " 'comp.sys.mac.hardware',\n",
              " 'comp.windows.x',\n",
              " 'misc.forsale',\n",
              " 'rec.autos',\n",
              " 'rec.motorcycles',\n",
              " 'rec.sport.baseball',\n",
              " 'rec.sport.hockey',\n",
              " 'sci.crypt',\n",
              " 'sci.electronics',\n",
              " 'sci.med',\n",
              " 'sci.space',\n",
              " 'soc.religion.christian',\n",
              " 'talk.politics.guns',\n",
              " 'talk.politics.mideast',\n",
              " 'talk.politics.misc',\n",
              " 'talk.religion.misc']"
            ]
          },
          "metadata": {},
          "execution_count": 2
        }
      ]
    },
    {
      "cell_type": "markdown",
      "source": [
        "As an example, we print a document and its assigned label."
      ],
      "metadata": {
        "id": "b5XIH9P5RZXk"
      }
    },
    {
      "cell_type": "code",
      "source": [
        "print(corpus_train.data[1],'\\n')\n",
        "print('Assigned class label:', corpus_train.target_names[corpus_train.target[1]],'\\n')"
      ],
      "metadata": {
        "colab": {
          "base_uri": "https://localhost:8080/"
        },
        "id": "-V_vnPM1L7Jn",
        "outputId": "27bf80a5-bf96-4b30-e56d-3a04c675be38"
      },
      "execution_count": null,
      "outputs": [
        {
          "output_type": "stream",
          "name": "stdout",
          "text": [
            "A fair number of brave souls who upgraded their SI clock oscillator have\n",
            "shared their experiences for this poll. Please send a brief message detailing\n",
            "your experiences with the procedure. Top speed attained, CPU rated speed,\n",
            "add on cards and adapters, heat sinks, hour of usage per day, floppy disk\n",
            "functionality with 800 and 1.4 m floppies are especially requested.\n",
            "\n",
            "I will be summarizing in the next two days, so please add to the network\n",
            "knowledge base if you have done the clock upgrade and haven't answered this\n",
            "poll. Thanks. \n",
            "\n",
            "Assigned class label: comp.sys.mac.hardware \n",
            "\n"
          ]
        }
      ]
    },
    {
      "cell_type": "markdown",
      "source": [
        "The class distribution is plotted below. The class distribution is almost uniform in the train set."
      ],
      "metadata": {
        "id": "ns0eBshOTWKp"
      }
    },
    {
      "cell_type": "code",
      "source": [
        "unique, counts = np.unique(corpus_train.target, return_counts=True)\n",
        "x_axis = np.arange(len(unique))\n",
        "plt.bar(unique, counts)\n",
        "plt.title('Class distribution for the news groups dataset')\n",
        "plt.xlabel('Class')\n",
        "plt.ylabel('Count')\n",
        "plt.xticks(x_axis, unique+1)\n",
        "plt.show()"
      ],
      "metadata": {
        "colab": {
          "base_uri": "https://localhost:8080/",
          "height": 295
        },
        "id": "SAG9f7Hhva2f",
        "outputId": "9855546f-d873-4541-a9cc-a35e711d0791"
      },
      "execution_count": null,
      "outputs": [
        {
          "output_type": "display_data",
          "data": {
            "image/png": "[encoded data removed]",
            "text/plain": [
              "<Figure size 432x288 with 1 Axes>"
            ]
          },
          "metadata": {
            "needs_background": "light"
          }
        }
      ]
    },
    {
      "cell_type": "markdown",
      "source": [
        "## Feature extraction\n",
        "\n",
        "In order to extract features and turn the text content into numerical features, we utilize CountVectorizer to find out the counts of the identified distinct words in the documents. For this, we define a function to remove numbers and underscores from the text. The default tokenizer ignores special characters. we also use the default stop word. Subsequently, using TfidfTransformer we normalize the features by transforming the corresponding count vectors to frequencies. Our experiments show that this refinement results in better accuracies for our models.\n",
        "\n",
        "We can specify the minimum and maximum document frequencies (ignoring terms that have frequencies lower and higher than the given thresholds) for further refinements. Changing these values results in different number of features. Different word n-grams also results in different number of features. In the upcomming sections, we study the effect of these parameters on the performance of the model."
      ],
      "metadata": {
        "id": "AskW4xRpS3I8"
      }
    },
    {
      "cell_type": "code",
      "source": [
        "# function for removing digits\n",
        "\n",
        "def remove_digits(X):\n",
        "  corpus = X.copy()\n",
        "  for index, s in enumerate(corpus):\n",
        "    s = ''.join([i for i in s if not i.isdigit()])\n",
        "    corpus[index] = s\n",
        "  return corpus\n",
        "\n",
        "# function for removing underscores\n",
        "\n",
        "def remove_underscore(X):\n",
        "  corpus = X.copy()\n",
        "  for index, s in enumerate(corpus):\n",
        "    corpus[index] = s.replace(\"_\", \" \")\n",
        "  return corpus\n",
        "\n",
        "corpus_train.data = remove_underscore(remove_digits(corpus_train.data))\n",
        "corpus_test.data =remove_underscore(remove_digits(corpus_test.data))\n",
        "\n",
        "# count features\n",
        "count_vect = CountVectorizer(lowercase=True,\n",
        "                             stop_words='english',\n",
        "                             min_df=2,\n",
        "                             ngram_range=(1,3))\n",
        "\n",
        "X_train_counts = count_vect.fit_transform(corpus_train.data)\n",
        "X_test_counts = count_vect.transform(corpus_test.data)\n",
        "feature_names = count_vect.get_feature_names_out()\n",
        "\n",
        "print('Number of features = ', X_train_counts.shape[1])\n",
        "#print(feature_names[0:1000])\n",
        "\n",
        "# transforming word counts to frequencies\n",
        "tfidf_t = TfidfTransformer(use_idf=True,\n",
        "                         norm='l2')\n",
        "\n",
        "X_train_freqs = tfidf_t.fit_transform(X_train_counts)\n",
        "X_test_freqs = tfidf_t.transform(X_test_counts)\n",
        "\n",
        "# multi-class\n",
        "y_train = corpus_train.target\n",
        "y_test = corpus_test.target\n",
        "\n",
        "# One may use decomposition tools to reduce the number of features.\n",
        "# However, using this method in the current project, e.g. to reduce the number\n",
        "# of features to 100, results in reduced accuracies.\n",
        "\n",
        "#from sklearn.decomposition import TruncatedSVD\n",
        "#svd = TruncatedSVD(n_components=100)\n",
        "#X_train = svd.fit_transform(X_train)"
      ],
      "metadata": {
        "colab": {
          "base_uri": "https://localhost:8080/"
        },
        "id": "enjDhVzAUB8O",
        "outputId": "c41b946a-8945-4a7b-c595-0dd0c2593201"
      },
      "execution_count": null,
      "outputs": [
        {
          "output_type": "stream",
          "name": "stdout",
          "text": [
            "Number of features =  187682\n"
          ]
        }
      ]
    },
    {
      "cell_type": "markdown",
      "source": [
        "For example, the word with the highest frequency can be found as follows:"
      ],
      "metadata": {
        "id": "tuDQaLtueVGK"
      }
    },
    {
      "cell_type": "code",
      "source": [
        "from numpy import unravel_index\n",
        "print(unravel_index(np.argmax(X_train_freqs), X_train_freqs.shape))\n",
        "print(X_train_freqs[unravel_index(np.argmax(X_train_freqs), X_train_freqs.shape)])\n",
        "print(feature_names[unravel_index(np.argmax(X_train_freqs), X_train_freqs.shape)[1]])"
      ],
      "metadata": {
        "colab": {
          "base_uri": "https://localhost:8080/"
        },
        "id": "J7J3g-d5iyy7",
        "outputId": "1698c63d-7451-4846-995c-5fbd24c47aa4"
      },
      "execution_count": null,
      "outputs": [
        {
          "output_type": "stream",
          "name": "stdout",
          "text": [
            "(8986, 3115)\n",
            "1.0\n",
            "agree\n"
          ]
        }
      ]
    },
    {
      "cell_type": "markdown",
      "source": [
        "# Task 2: Implement Naive Bayes and k-fold cross validation\n",
        "\n",
        "Here we implement Multinomial Naive Bayes. We harness operations using sparse matrix (csr_matrix) to speed up the calculations and to prevent RAM from being used up."
      ],
      "metadata": {
        "id": "sno1reBtbXDG"
      }
    },
    {
      "cell_type": "markdown",
      "source": [
        "## Naive Bayes (Multinomial, count/frequency features)"
      ],
      "metadata": {
        "id": "YjQig_-UfdZx"
      }
    },
    {
      "cell_type": "code",
      "source": [
        "def logsumexp(Z):\n",
        "  Zmax = np.max(Z,axis=0)[None,:]\n",
        "  log_sum_exp = Zmax + np.log(np.sum(np.exp(Z - Zmax), axis=0))\n",
        "  return log_sum_exp\n",
        "\n",
        "class MultinomialNaiveBayes:\n",
        "  def __init__(self, alpha=1):\n",
        "    self.alpha = alpha\n",
        "    return\n",
        "\n",
        "  def fit(self, x, y):\n",
        "    N, D = x.shape\n",
        "    C = np.max(y) + 1\n",
        "    Nc = np.zeros(C)\n",
        "    theta = np.zeros((C, D))\n",
        "\n",
        "    for c in range(C):\n",
        "      x_c = x[y == c]\n",
        "      Nc[c] = x_c.shape[0]\n",
        "      theta[c,:] = (x_c.sum(0) + self.alpha)/(x_c.sum(0).sum(1) + self.alpha*D)\n",
        "\n",
        "    self.pi = (Nc+1)/(N+C)\n",
        "    self.theta = theta\n",
        "    self.C = C\n",
        "    return self.theta\n",
        "\n",
        "  def predict(self, xt):\n",
        "    Nt, D = xt.shape\n",
        "    log_prior = np.log(self.pi)[:, None]\n",
        "    log_likelihood = (csr_matrix(np.log(self.theta)) * xt.transpose()).toarray()\n",
        "    log_posterior = log_prior + log_likelihood\n",
        "    posterior = np.exp(log_posterior - logsumexp(log_posterior))\n",
        "    prediction = np.argmax(posterior.T, 1)\n",
        "    return prediction"
      ],
      "metadata": {
        "id": "SXRr3LelfkNU"
      },
      "execution_count": null,
      "outputs": []
    },
    {
      "cell_type": "markdown",
      "source": [
        "## Naive Bayes (Gaussian, continious features)"
      ],
      "metadata": {
        "id": "WDkyDxM9dfGp"
      }
    },
    {
      "cell_type": "code",
      "source": [
        "def logsumexp(Z):\n",
        "  Zmax = np.max(Z,axis=0)[None,:]\n",
        "  log_sum_exp = Zmax + np.log(np.sum(np.exp(Z - Zmax), axis=0))\n",
        "  return log_sum_exp\n",
        "\n",
        "class GaussianNaiveBayes:\n",
        "  def __init__(self):\n",
        "    return\n",
        "\n",
        "  def fit(self, x, y):\n",
        "    N, D = x.shape\n",
        "    C = np.max(y) + 1\n",
        "    mu, sigma = np.zeros((C,D)), np.zeros((C,D))\n",
        "    Nc = np.zeros(C)\n",
        "\n",
        "    for c in range(C):\n",
        "      x_c = x[y == c]\n",
        "      Nc[c] = x_c.shape[0]\n",
        "      mu[c,:] = np.mean(x_c,0)\n",
        "      #sigma[c,:] = np.std(x_c.toarray(), 0)\n",
        "      # The code below is faster since it does not convert the sparse matrix to array\n",
        "      sigma[c,:] = np.squeeze(np.asarray(np.power(np.mean(csr_matrix.power(x_c,2), 0) - np.power((np.mean(x_c,0)),2),0.5)))\n",
        "      # Since some of the stds might be zero, we use std + eps to avoid future problems\n",
        "      sigma[c, (sigma[c,:] == 0)] = np.random.rand(1)*0.00001\n",
        "\n",
        "    self.mu = mu\n",
        "    self.sigma = sigma\n",
        "    self.pi = (Nc+1)/(N+C)\n",
        "    self.C = C\n",
        "    return self\n",
        "\n",
        "  def predict(self, xt):\n",
        "    Nt, D = xt.shape\n",
        "    log_likelihood = np.zeros((self.C,Nt))\n",
        "    log_prior = np.log(self.pi)[:, None]\n",
        "    # to avoid converting csr_matrix to array and filling up the RAM, we use the following calculations:\n",
        "    for c in range(self.C):\n",
        "      for i in range(Nt):\n",
        "        sum1 = 0.5*np.log(2*np.pi)*D\n",
        "        sum2 = np.sum(np.log(self.sigma[c,:]))\n",
        "        sum3 = np.sum(np.delete(self.mu[c,:], xt[i,:].indices)**2/(2*(np.delete(self.sigma[c,:], xt[i,:].indices)**2)))\n",
        "        sum4 = np.sum((xt[i,:].data - self.mu[c, xt[i,:].indices])**2/(2*(self.sigma[c, xt[i,:].indices])**2))\n",
        "        log_likelihood[c,i] = - sum1 - sum2 - sum3 - sum4\n",
        "    log_posterior = log_prior + log_likelihood\n",
        "    posterior = np.exp(log_posterior - logsumexp(log_posterior))\n",
        "    return posterior.T"
      ],
      "metadata": {
        "id": "3x3sCNetdYSB"
      },
      "execution_count": null,
      "outputs": []
    },
    {
      "cell_type": "markdown",
      "source": [
        "## Accuracy evaluation"
      ],
      "metadata": {
        "id": "9wRWJyJ3bcz2"
      }
    },
    {
      "cell_type": "code",
      "source": [
        "def evaluate_acc(y, y_pred):\n",
        "  accuracy = np.mean(y_pred == y)\n",
        "  return accuracy"
      ],
      "metadata": {
        "id": "hMf1dfv_bVFi"
      },
      "execution_count": null,
      "outputs": []
    },
    {
      "cell_type": "markdown",
      "source": [
        "## Cross validation"
      ],
      "metadata": {
        "id": "A1iF6eS3dMmg"
      }
    },
    {
      "cell_type": "code",
      "source": [
        "def cross_validation_split(x_train, y_train, k_folds=5, shuffle=False):\n",
        "    n = x_train.shape[0]\n",
        "    n_val = n // k_folds\n",
        "    if shuffle:\n",
        "      inds = np.random.permutation(n)\n",
        "    else:\n",
        "      inds = range(n)\n",
        "    for f in range(k_folds):\n",
        "        tr_inds = []\n",
        "        val_inds = list(inds[f * n_val:(f+1)*n_val])\n",
        "        if f > 0:\n",
        "            tr_inds = list(inds[:f*n_val])\n",
        "        if f < k_folds - 1:\n",
        "            tr_inds = tr_inds + list(inds[(f+1)*n_val: n])\n",
        "        yield x_train[tr_inds], x_train[val_inds], y_train[tr_inds], y_train[val_inds]"
      ],
      "metadata": {
        "id": "s-p1_QdQ_QFK"
      },
      "execution_count": null,
      "outputs": []
    },
    {
      "cell_type": "code",
      "source": [
        "def kfoldCV(model, x_train, y_train, k_folds=5, shuffle=False):\n",
        "\n",
        "  acc_val = np.zeros(k_folds)\n",
        "\n",
        "  for f, (x_tr, x_val, y_tr, y_val) in enumerate(cross_validation_split(x_train, y_train, k_folds, shuffle)):\n",
        "    model.fit(x_tr, y_tr)\n",
        "    y_pred = model.predict(x_val)\n",
        "    acc_val[f] = evaluate_acc(y_val, y_pred)\n",
        "\n",
        "  return np.mean(acc_val), np.std(acc_val)"
      ],
      "metadata": {
        "id": "Cut-StgDE6U4"
      },
      "execution_count": null,
      "outputs": []
    },
    {
      "cell_type": "markdown",
      "source": [
        "# Task 3: Run experiments"
      ],
      "metadata": {
        "id": "jsaBlCn2bL7L"
      }
    },
    {
      "cell_type": "markdown",
      "source": [
        "## Hyper-parameter tuning\n",
        "\n",
        "In this section we use 5-fold cross validation for hyper-parametr tuning for both models."
      ],
      "metadata": {
        "id": "8ldCxwbQgt8g"
      }
    },
    {
      "cell_type": "markdown",
      "source": [
        "### Naive Bayes\n",
        "\n",
        "By considering the smoothing parameter $α=1$ for multinomila Naive Bayes model, we can select the best parameters for our vectorizer. We use TdidfVectorizer and evaluate the mean cross-validated score for different mid_df and ngram_range parameters."
      ],
      "metadata": {
        "id": "4d2M7FBR2BLX"
      }
    },
    {
      "cell_type": "code",
      "source": [
        "min_df_list = [1, 2, 3]\n",
        "acc_val_mean = np.zeros(len(min_df_list))\n",
        "for i, min_df in enumerate(min_df_list):\n",
        "  tfidf = TfidfVectorizer(lowercase=True,\n",
        "                          use_idf=True,\n",
        "                          stop_words='english',\n",
        "                          min_df=min_df,\n",
        "                          ngram_range=(1,1))\n",
        "\n",
        "  X_train = tfidf.fit_transform(corpus_train.data)\n",
        "\n",
        "  model = MultinomialNaiveBayes(alpha=1)\n",
        "  acc_val_mean[i], _ = kfoldCV(model, X_train, y_train, k_folds=5, shuffle=False)\n",
        "\n",
        "  print(\"min_df = %r: mean CV score = %r\" % (min_df, acc_val_mean[i]))"
      ],
      "metadata": {
        "colab": {
          "base_uri": "https://localhost:8080/"
        },
        "id": "6h3OtEcn_PWQ",
        "outputId": "5912944e-907e-4f07-ea5c-a92217ade080"
      },
      "execution_count": null,
      "outputs": [
        {
          "output_type": "stream",
          "name": "stdout",
          "text": [
            "min_df = 1: mean CV score = 0.7137046861184793\n",
            "min_df = 2: mean CV score = 0.7201591511936339\n",
            "min_df = 3: mean CV score = 0.7200707338638374\n"
          ]
        }
      ]
    },
    {
      "cell_type": "code",
      "source": [
        "ngram_range_list = [(1,1), (1,2), (1,3), (2,3), (3,3)]\n",
        "acc_val_mean = np.zeros(len(ngram_range_list))\n",
        "for i, ngram_range in enumerate(ngram_range_list):\n",
        "  tfidf = TfidfVectorizer(lowercase=True,\n",
        "                          use_idf=True,\n",
        "                          stop_words='english',\n",
        "                          min_df=2,\n",
        "                          ngram_range=ngram_range)\n",
        "\n",
        "  X_train = tfidf.fit_transform(corpus_train.data)\n",
        "\n",
        "  model = MultinomialNaiveBayes(alpha=1)\n",
        "  acc_val_mean[i], _ = kfoldCV(model, X_train, y_train, k_folds=5, shuffle=False)\n",
        "\n",
        "  print(\"ngram_range = %r: mean CV score = %r\" % (ngram_range, acc_val_mean[i]))"
      ],
      "metadata": {
        "colab": {
          "base_uri": "https://localhost:8080/"
        },
        "id": "JtAHWKp7DjsV",
        "outputId": "aeb65ec6-8b40-48f3-b447-de82a5b83dc6"
      },
      "execution_count": null,
      "outputs": [
        {
          "output_type": "stream",
          "name": "stdout",
          "text": [
            "ngram_range = (1, 1): mean CV score = 0.7201591511936339\n",
            "ngram_range = (1, 2): mean CV score = 0.7254641909814323\n",
            "ngram_range = (1, 3): mean CV score = 0.7270557029177718\n",
            "ngram_range = (2, 3): mean CV score = 0.6100795755968169\n",
            "ngram_range = (3, 3): mean CV score = 0.3750663129973475\n"
          ]
        }
      ]
    },
    {
      "cell_type": "code",
      "source": [
        "tfidf = TfidfVectorizer(lowercase=True,\n",
        "                          use_idf=True,\n",
        "                          stop_words='english',\n",
        "                          min_df=2,\n",
        "                          ngram_range=(1,3))\n",
        "\n",
        "X_train_freqs = tfidf.fit_transform(corpus_train.data)\n",
        "X_test_freqs = tfidf.transform(corpus_test.data)\n",
        "\n",
        "print('Number of features = ', X_train_freqs.shape[1])"
      ],
      "metadata": {
        "colab": {
          "base_uri": "https://localhost:8080/"
        },
        "id": "QKh7WQ9FE_VB",
        "outputId": "a107ea24-2ad4-4c61-e0c2-03d24d3ec63d"
      },
      "execution_count": null,
      "outputs": [
        {
          "output_type": "stream",
          "name": "stdout",
          "text": [
            "Number of features =  187682\n"
          ]
        }
      ]
    },
    {
      "cell_type": "code",
      "source": [
        "alpha_list = np.logspace(-3, 1.0, num=50)\n",
        "k_folds = 5\n",
        "\n",
        "acc_val_mean, acc_val_std = np.zeros(len(alpha_list)), np.zeros(len(alpha_list))\n",
        "acc_train, acc_test = np.zeros(len(alpha_list)), np.zeros(len(alpha_list))\n",
        "\n",
        "for i, alpha in enumerate(alpha_list):\n",
        "    model = MultinomialNaiveBayes(alpha=alpha)\n",
        "    acc_val_mean[i], acc_val_std[i] = kfoldCV(model, X_train_freqs, y_train, k_folds, shuffle=False)\n",
        "\n",
        "    model.fit(X_train_freqs, y_train)\n",
        "    y_pred_test = model.predict(X_test_freqs)\n",
        "    acc_test[i] = evaluate_acc(y_test, y_pred_test)\n",
        "    y_pred_train = model.predict(X_train_freqs)\n",
        "    acc_train[i] = evaluate_acc(y_train, y_pred_train)"
      ],
      "metadata": {
        "id": "gR37Y48MNNAr"
      },
      "execution_count": null,
      "outputs": []
    },
    {
      "cell_type": "code",
      "source": [
        "plt.xscale('log')\n",
        "plt.plot(alpha_list, acc_test,  label='test')\n",
        "plt.errorbar(alpha_list, acc_val_mean, acc_val_std, label='validation')\n",
        "plt.plot(alpha_list, acc_train,  label='train')\n",
        "plt.legend(loc='upper right')\n",
        "plt.xlabel('Smoothing Parameter (Alpha)')\n",
        "plt.ylabel('Accuracy Score')\n",
        "plt.ylim((0.6, 1))\n",
        "plt.grid(b=True)\n",
        "plt.title('Accuracy vs smoothing parameter (alpha) for frequency features')\n",
        "#plt.savefig('MNB_acc.pdf', format='pdf', bbox_inches='tight')\n",
        "#files.download('MNB_acc.pdf')\n",
        "plt.show()\n",
        "\n",
        "best_alpha = alpha_list[np.argmax(acc_val_mean)]\n",
        "print(f'The best alpha based on the validation accuracy is {best_alpha:.2f}.')\n",
        "\n",
        "model = MultinomialNaiveBayes(alpha=best_alpha)\n",
        "model.fit(X_train_freqs, y_train)\n",
        "y_pred = model.predict(X_test_freqs)\n",
        "print(f'The validation accuracy with the best alpha is {np.max(acc_val_mean)*100:.1f}%.')\n",
        "print(f'The test accuracy with the best alpha is {evaluate_acc(y_test, y_pred)*100:.1f}%.')"
      ],
      "metadata": {
        "colab": {
          "base_uri": "https://localhost:8080/",
          "height": 351
        },
        "id": "1jL56fP-xL0x",
        "outputId": "125931b3-0856-45ed-9af9-18d182f70dda"
      },
      "execution_count": null,
      "outputs": [
        {
          "output_type": "display_data",
          "data": {
            "image/png": "[encoded data removed]",
            "text/plain": [
              "<Figure size 432x288 with 1 Axes>"
            ]
          },
          "metadata": {
            "needs_background": "light"
          }
        },
        {
          "output_type": "stream",
          "name": "stdout",
          "text": [
            "The best alpha based on the validation accuracy is 0.02.\n",
            "The validation accuracy with the best alpha is 77.2%.\n",
            "The test accuracy with the best alpha is 69.4%.\n"
          ]
        }
      ]
    },
    {
      "cell_type": "markdown",
      "source": [
        "Using counts of the words instead of their frequencies generally results in worse accuracies:"
      ],
      "metadata": {
        "id": "vQOm4CO_voHz"
      }
    },
    {
      "cell_type": "code",
      "source": [
        "count_vect = CountVectorizer(lowercase=True,\n",
        "                             stop_words='english',\n",
        "                             min_df=2,\n",
        "                             ngram_range=(1,3))\n",
        "\n",
        "X_train_counts = count_vect.fit_transform(corpus_train.data)\n",
        "X_test_counts = count_vect.transform(corpus_test.data)\n",
        "\n",
        "print('Number of features = ', X_train_counts.shape[1])"
      ],
      "metadata": {
        "colab": {
          "base_uri": "https://localhost:8080/"
        },
        "id": "sFanppdNHHZY",
        "outputId": "03b1af78-9753-4786-9619-8886fdd6f746"
      },
      "execution_count": null,
      "outputs": [
        {
          "output_type": "stream",
          "name": "stdout",
          "text": [
            "Number of features =  187682\n"
          ]
        }
      ]
    },
    {
      "cell_type": "code",
      "source": [
        "alpha_list = np.logspace(-3, 1.0, num=50)\n",
        "k_folds = 5\n",
        "\n",
        "acc_val_mean, acc_val_std = np.zeros(len(alpha_list)), np.zeros(len(alpha_list))\n",
        "acc_train, acc_test = np.zeros(len(alpha_list)), np.zeros(len(alpha_list))\n",
        "\n",
        "for i, alpha in enumerate(alpha_list):\n",
        "    model = MultinomialNaiveBayes(alpha=alpha)\n",
        "    acc_val_mean[i], acc_val_std[i] = kfoldCV(model, X_train_counts, y_train, k_folds, shuffle=False)\n",
        "\n",
        "    model.fit(X_train_counts, y_train)\n",
        "    y_pred_test = model.predict(X_test_counts)\n",
        "    acc_test[i] = evaluate_acc(y_test, y_pred_test)\n",
        "    y_pred_train = model.predict(X_train_counts)\n",
        "    acc_train[i] = evaluate_acc(y_train, y_pred_train)"
      ],
      "metadata": {
        "id": "zqABdzowRiev"
      },
      "execution_count": null,
      "outputs": []
    },
    {
      "cell_type": "code",
      "source": [
        "plt.xscale('log')\n",
        "plt.plot(alpha_list, acc_test,  label='test')\n",
        "plt.errorbar(alpha_list, acc_val_mean, acc_val_std, label='validation')\n",
        "plt.plot(alpha_list, acc_train,  label='train')\n",
        "plt.legend(loc='upper right')\n",
        "plt.xlabel('Smoothing Parameter (Alpha)')\n",
        "plt.ylabel('Accuracy Score')\n",
        "plt.ylim((0.6, 1))\n",
        "plt.grid(b=True)\n",
        "plt.title('Accuracy vs smoothing parameter (alpha) for count features')\n",
        "#plt.savefig('MNB_acc.pdf', format='pdf', bbox_inches='tight')\n",
        "#files.download('MNB_acc.pdf')\n",
        "plt.show()\n",
        "\n",
        "best_alpha = alpha_list[np.argmax(acc_val_mean)]\n",
        "print(f'The best alpha based on the validation accuracy is {best_alpha:.3f}.')\n",
        "\n",
        "model = MultinomialNaiveBayes(alpha=best_alpha)\n",
        "model.fit(X_train_freqs, y_train)\n",
        "y_pred = model.predict(X_test_freqs)\n",
        "print(f'The validation accuracy with the best alpha is {np.max(acc_val_mean)*100:.1f}%.')\n",
        "print(f'The test accuracy with the best alpha is {evaluate_acc(y_test, y_pred)*100:.1f}%.')"
      ],
      "metadata": {
        "colab": {
          "base_uri": "https://localhost:8080/",
          "height": 351
        },
        "id": "F376J2958cPl",
        "outputId": "1fdd36cb-d0f4-42cb-a01c-d28f9038a14a"
      },
      "execution_count": null,
      "outputs": [
        {
          "output_type": "display_data",
          "data": {
            "image/png": "[encoded data removed]",
            "text/plain": [
              "<Figure size 432x288 with 1 Axes>"
            ]
          },
          "metadata": {
            "needs_background": "light"
          }
        },
        {
          "output_type": "stream",
          "name": "stdout",
          "text": [
            "The best alpha based on the validation accuracy is 0.091.\n",
            "The validation accuracy with the best alpha is 72.4%.\n",
            "The test accuracy with the best alpha is 69.9%.\n"
          ]
        }
      ]
    },
    {
      "cell_type": "markdown",
      "source": [
        "### Logestic Regression\n",
        "\n",
        "By considering the parameter $C=1$, which shows the inverse of the regularization strength for Logestic Regression model, we select the best parameters for our vectorizer. We use TdidfVectorizer and evaluate the mean cross-validated score for different mid_df and ngram_range parameters."
      ],
      "metadata": {
        "id": "ePY3c9q12JZ2"
      }
    },
    {
      "cell_type": "code",
      "source": [
        "min_df_list = [1, 2, 3]\n",
        "acc_val_mean = np.zeros(len(min_df_list))\n",
        "for i, min_df in enumerate(min_df_list):\n",
        "  tfidf = TfidfVectorizer(lowercase=True,\n",
        "                          use_idf=True,\n",
        "                          stop_words='english',\n",
        "                          min_df=min_df,\n",
        "                          ngram_range=(1,1))\n",
        "\n",
        "  X_train = tfidf.fit_transform(corpus_train.data)\n",
        "\n",
        "  model = LogisticRegression(multi_class='multinomial', max_iter=300, C=1, solver='lbfgs')\n",
        "  acc_val_mean[i], _ = kfoldCV(model, X_train, y_train, k_folds=5, shuffle=False)\n",
        "\n",
        "  print(\"min_df = %r: mean CV score = %r\" % (min_df, acc_val_mean[i]))"
      ],
      "metadata": {
        "colab": {
          "base_uri": "https://localhost:8080/"
        },
        "id": "3Wm0qroNIuQz",
        "outputId": "bd836fd7-235a-45d9-d25f-060ff70ae9d5"
      },
      "execution_count": null,
      "outputs": [
        {
          "output_type": "stream",
          "name": "stdout",
          "text": [
            "min_df = 1: mean CV score = 0.737577365163572\n",
            "min_df = 2: mean CV score = 0.7386383731211318\n",
            "min_df = 3: mean CV score = 0.7374889478337754\n"
          ]
        }
      ]
    },
    {
      "cell_type": "code",
      "source": [
        "ngram_range_list = [(1,1), (1,2), (1,3), (2,3), (3,3)]\n",
        "acc_val_mean = np.zeros(len(ngram_range_list))\n",
        "for i, ngram_range in enumerate(ngram_range_list):\n",
        "  tfidf = TfidfVectorizer(lowercase=True,\n",
        "                          use_idf=True,\n",
        "                          stop_words='english',\n",
        "                          min_df=2,\n",
        "                          ngram_range=ngram_range)\n",
        "\n",
        "  X_train = tfidf.fit_transform(remove_underscore(remove_digits(corpus_train.data)))\n",
        "\n",
        "  model = LogisticRegression(multi_class='multinomial', max_iter=300, C=1, solver='lbfgs')\n",
        "  acc_val_mean[i], _ = kfoldCV(model, X_train, y_train, k_folds=5, shuffle=False)\n",
        "\n",
        "  print(\"ngram_range = %r: mean CV score = %r\" % (ngram_range, acc_val_mean[i]))"
      ],
      "metadata": {
        "colab": {
          "base_uri": "https://localhost:8080/"
        },
        "id": "YGjnVDJzJOH7",
        "outputId": "477e7907-7635-43b2-8690-1e05662071db"
      },
      "execution_count": null,
      "outputs": [
        {
          "output_type": "stream",
          "name": "stdout",
          "text": [
            "ngram_range = (1, 1): mean CV score = 0.7386383731211318\n",
            "ngram_range = (1, 2): mean CV score = 0.7442970822281167\n",
            "ngram_range = (1, 3): mean CV score = 0.7469496021220159\n",
            "ngram_range = (2, 3): mean CV score = 0.6001768346595934\n",
            "ngram_range = (3, 3): mean CV score = 0.379840848806366\n"
          ]
        }
      ]
    },
    {
      "cell_type": "code",
      "source": [
        "tfidf = TfidfVectorizer(lowercase=True,\n",
        "                          use_idf=True,\n",
        "                          stop_words='english',\n",
        "                          min_df=2,\n",
        "                          ngram_range=(1,3))\n",
        "\n",
        "X_train_freqs = tfidf.fit_transform(remove_underscore(remove_digits(corpus_train.data)))\n",
        "X_test_freqs = tfidf.transform(remove_underscore(remove_digits(corpus_test.data)))\n",
        "\n",
        "print('Number of features = ', X_train_freqs.shape[1])"
      ],
      "metadata": {
        "colab": {
          "base_uri": "https://localhost:8080/"
        },
        "id": "l0ew9OWtN9kl",
        "outputId": "c1113864-009c-4f81-8a6f-38778d90df77"
      },
      "execution_count": null,
      "outputs": [
        {
          "output_type": "stream",
          "name": "stdout",
          "text": [
            "Number of features =  187682\n"
          ]
        }
      ]
    },
    {
      "cell_type": "code",
      "source": [
        "C_list = np.logspace(-3, 1.0, num=5)\n",
        "k_folds = 5\n",
        "\n",
        "acc_val_mean, acc_val_std = np.zeros(len(C_list)), np.zeros(len(C_list))\n",
        "acc_train, acc_test = np.zeros(len(C_list)), np.zeros(len(C_list))\n",
        "\n",
        "for i, C in enumerate(C_list):\n",
        "    model = LogisticRegression(multi_class='multinomial', max_iter=300, C=C, solver='lbfgs')\n",
        "    acc_val_mean[i], acc_val_std[i] = kfoldCV(model, X_train_freqs, y_train, k_folds, shuffle=False)\n",
        "\n",
        "    model.fit(X_train_freqs, y_train)\n",
        "    y_pred_test = model.predict(X_test_freqs)\n",
        "    acc_test[i] = evaluate_acc(y_test, y_pred_test)\n",
        "    y_pred_train = model.predict(X_train_freqs)\n",
        "    acc_train[i] = evaluate_acc(y_train, y_pred_train)"
      ],
      "metadata": {
        "id": "8fYhTM_pSRMJ"
      },
      "execution_count": null,
      "outputs": []
    },
    {
      "cell_type": "code",
      "source": [
        "plt.xscale('log')\n",
        "plt.plot(C_list, acc_test,  label='test')\n",
        "plt.errorbar(C_list, acc_val_mean, acc_val_std, label='validation')\n",
        "plt.plot(C_list, acc_train,  label='train')\n",
        "plt.legend(loc='lower right')\n",
        "plt.xlabel('Inverse of regularization strength (C)')\n",
        "plt.ylabel('Accuracy Score')\n",
        "plt.ylim((0, 1))\n",
        "plt.grid(b=True)\n",
        "plt.title('Accuracy vs inverse of regularization strength (C)')\n",
        "#plt.savefig('LR_acc.pdf', format='pdf', bbox_inches='tight')\n",
        "#files.download('LR_acc.pdf')\n",
        "plt.show()\n",
        "\n",
        "best_C = C_list[np.argmax(acc_val_mean)]\n",
        "print(f'The best C based on the validation accuracy is: {best_C:.2f}.')\n",
        "\n",
        "model = LogisticRegression(multi_class='multinomial', max_iter=300, C=best_C, solver='lbfgs')\n",
        "model.fit(X_train_freqs, y_train)\n",
        "y_pred = model.predict(X_test_freqs)\n",
        "print(f'The validation accuracy with the best C is {np.max(acc_val_mean)*100:.1f}%.')\n",
        "print(f'The test accuracy with the best C is {evaluate_acc(y_test, y_pred)*100:.1f}%.')\n",
        "\n",
        "# for a classification report, uncomment the lines below\n",
        "#print(classification_report(y_test, y_pred, target_names=corpus_test.target_names))\n",
        "#print(confusion_matrix(y_test, yh)[3:8,3:8])"
      ],
      "metadata": {
        "colab": {
          "base_uri": "https://localhost:8080/",
          "height": 351
        },
        "id": "KYAgQoC8fyQO",
        "outputId": "e98cdfdc-4c06-4a1d-e13a-da246a03235d"
      },
      "execution_count": null,
      "outputs": [
        {
          "output_type": "display_data",
          "data": {
            "image/png": "[encoded data removed]",
            "text/plain": [
              "<Figure size 432x288 with 1 Axes>"
            ]
          },
          "metadata": {
            "needs_background": "light"
          }
        },
        {
          "output_type": "stream",
          "name": "stdout",
          "text": [
            "The best C based on the validation accuracy is: 10.00.\n",
            "The validation accuracy with the best C is 76.1%.\n",
            "The test accuracy with the best C is 69.3%.\n"
          ]
        }
      ]
    },
    {
      "cell_type": "markdown",
      "source": [
        "We change stopping tolerance as another hyper-parameter for logetsic regression and investigate its effect on the validation accuracy."
      ],
      "metadata": {
        "id": "7OcD420ecLOC"
      }
    },
    {
      "cell_type": "code",
      "source": [
        "tol_list = [1e-5, 1e-1, 1]\n",
        "k_folds = 5\n",
        "\n",
        "acc_val_mean = np.zeros(len(tol_list))\n",
        "\n",
        "for i, tol in enumerate(tol_list):\n",
        "    model = LogisticRegression(multi_class='multinomial', max_iter=500, C=1, tol=tol, solver='lbfgs')\n",
        "    acc_val_mean[i], _ = kfoldCV(model, X_train_freqs, y_train, k_folds, shuffle=False)\n",
        "\n",
        "    print(\"tolerance = %r: mean CV score = %r\" % (tol, acc_val_mean[i]))"
      ],
      "metadata": {
        "colab": {
          "base_uri": "https://localhost:8080/"
        },
        "id": "FjzpJ-1XbZs9",
        "outputId": "c71af6d1-b6b7-4575-b974-ba9d49884e46"
      },
      "execution_count": null,
      "outputs": [
        {
          "output_type": "stream",
          "name": "stdout",
          "text": [
            "tolerance = 1e-05: mean CV score = 0.7469496021220159\n",
            "tolerance = 0.1: mean CV score = 0.7468611847922193\n",
            "tolerance = 1: mean CV score = 0.7473032714412026\n"
          ]
        }
      ]
    },
    {
      "cell_type": "markdown",
      "source": [
        "## Dependency on the size of the train set\n",
        "\n",
        "In this section we evaluate the dependency of the two models on the size of the train dataset."
      ],
      "metadata": {
        "id": "V_n2xJT3hTFD"
      }
    },
    {
      "cell_type": "code",
      "source": [
        "tfidf = TfidfVectorizer(lowercase=True,\n",
        "                          use_idf=True,\n",
        "                          stop_words='english',\n",
        "                          min_df=2,\n",
        "                          ngram_range=(1,3))\n",
        "\n",
        "tfidf.fit(remove_underscore(remove_digits(corpus_train.data)))\n",
        "X_test = tfidf.transform(remove_underscore(remove_digits(corpus_test.data)))\n",
        "y_test = corpus_test.target\n",
        "\n",
        "n = len(corpus_train.data)\n",
        "size = np.array([0.2, 0.4, 0.6, 0.8, 1])\n",
        "accuracy_MNB = np.zeros(len(size))\n",
        "accuracy_LR = np.zeros(len(size))\n",
        "for i in range(len(size)):\n",
        "  inds = range(n)[:int(size[i]*n)]\n",
        "  # to shuffle the data uncomment the line below:\n",
        "  inds = np.random.permutation(n)[:int(size[i]*n)]\n",
        "\n",
        "  # If we want to have same feature sizes in every size:\n",
        "  #X_train = tfidf.transform(remove_underscore(remove_digits([corpus_train.data[index] for index in inds])))\n",
        "  #y_train = corpus_train.target[inds]\n",
        "\n",
        "  # If we want to have different feature sizes in every size:\n",
        "  X_train = tfidf.fit_transform(remove_underscore(remove_digits([corpus_train.data[index] for index in inds])))\n",
        "  y_train = corpus_train.target[inds]\n",
        "  #X_test = tfidf.transform(remove_underscore(remove_digits(corpus_test.data)))\n",
        "  #y_test = corpus_test.target\n",
        "\n",
        "  model = MultinomialNaiveBayes(alpha=0.02)\n",
        "  #model.fit(X_train, y_train)\n",
        "  #y_pred = model.predict(X_test)\n",
        "  accuracy_MNB[i], _ = kfoldCV(model, X_train, y_train, k_folds=5, shuffle=False)\n",
        "\n",
        "  model = LogisticRegression(multi_class='multinomial', max_iter=300, C=10, solver='lbfgs')\n",
        "  #model.fit(X_train, y_train)\n",
        "  #y_pred = model.predict(X_test)\n",
        "  accuracy_LR[i], _ = kfoldCV(model, X_train, y_train, k_folds=5, shuffle=False)"
      ],
      "metadata": {
        "id": "3OgQ-A8ihviq"
      },
      "execution_count": null,
      "outputs": []
    },
    {
      "cell_type": "code",
      "source": [
        "x_axis = np.arange(len(size))\n",
        "width = 0.4\n",
        "\n",
        "plt.bar(x_axis - width/2, accuracy_MNB, width, label='MNB')\n",
        "plt.bar(x_axis + width/2, accuracy_LR, width, label='LR')\n",
        "plt.title('Class distribution for the news groups dataset')\n",
        "plt.xlabel('Size of the dataset (%)')\n",
        "plt.legend(loc='lower right')\n",
        "plt.ylabel('Accuracy Score')\n",
        "plt.xticks(x_axis, size*100)\n",
        "plt.ylim([0.5, 0.8])\n",
        "plt.show()"
      ],
      "metadata": {
        "colab": {
          "base_uri": "https://localhost:8080/",
          "height": 295
        },
        "id": "AcNcYkOzh2eX",
        "outputId": "71077528-dd76-41a0-8f56-a95dbb1ae37d"
      },
      "execution_count": null,
      "outputs": [
        {
          "output_type": "display_data",
          "data": {
            "image/png": "[encoded data removed]",
            "text/plain": [
              "<Figure size 432x288 with 1 Axes>"
            ]
          },
          "metadata": {
            "needs_background": "light"
          }
        }
      ]
    },
    {
      "cell_type": "markdown",
      "source": [
        "## Further experiments"
      ],
      "metadata": {
        "id": "jALyviog7-nS"
      }
    },
    {
      "cell_type": "markdown",
      "source": [
        "We compare the accuracy of the Naive Bayes model with binary and frequcny features. It seems using binary features (bag of the words) reduces the accuracy of the model."
      ],
      "metadata": {
        "id": "74p8A9QktCHq"
      }
    },
    {
      "cell_type": "code",
      "source": [
        "from sklearn.naive_bayes import BernoulliNB\n",
        "from sklearn.naive_bayes import MultinomialNB\n",
        "\n",
        "text_clf_binary = Pipeline([\n",
        "                     ('vect', CountVectorizer(lowercase=True,\n",
        "                                              stop_words='english',\n",
        "                                              binary=True,\n",
        "                                              min_df=2,\n",
        "                                              ngram_range=(1,3),\n",
        "                                              token_pattern= r\"(?u)\\b\\w\\w+\\b\")),\n",
        "                     ('clf', BernoulliNB(alpha=0.02))\n",
        "\n",
        "])\n",
        "\n",
        "text_clf_binary.fit(remove_underscore(remove_digits(corpus_train.data)), corpus_train.target)\n",
        "predicted = text_clf_binary.predict(remove_underscore(remove_digits(corpus_test.data)))\n",
        "print('Test accuracy for binary features:', np.mean(predicted == corpus_test.target))\n",
        "\n",
        "text_clf_tfidf = Pipeline([\n",
        "                     ('tfidf', TfidfVectorizer(lowercase=True,\n",
        "                                               stop_words='english',\n",
        "                                               min_df=2,\n",
        "                                               ngram_range=(1,3),\n",
        "                                               token_pattern= r\"(?u)\\b\\w\\w+\\b\")),\n",
        "                     ('clf', MultinomialNB(alpha=0.02))\n",
        "\n",
        "])\n",
        "\n",
        "text_clf_tfidf.fit(remove_underscore(remove_digits(corpus_train.data)), corpus_train.target)\n",
        "predicted = text_clf_tfidf.predict(remove_underscore(remove_digits(corpus_test.data)))\n",
        "print('Test accuracy for frequency features:', np.mean(predicted == corpus_test.target))"
      ],
      "metadata": {
        "colab": {
          "base_uri": "https://localhost:8080/"
        },
        "id": "WnC6zsmd8BHh",
        "outputId": "759cf760-9b55-45ff-ef6b-4adb66083321"
      },
      "execution_count": null,
      "outputs": [
        {
          "output_type": "stream",
          "name": "stdout",
          "text": [
            "Test accuracy for binary features: 0.516064790228359\n",
            "Test accuracy for frequency features: 0.6943706850770048\n"
          ]
        }
      ]
    },
    {
      "cell_type": "markdown",
      "source": [
        "We can use a linear support vector machine (SVM) to see if we can get better results. The performance is almost equal to Multinomila Naive Bayes."
      ],
      "metadata": {
        "id": "-Te4I0L0pG4_"
      }
    },
    {
      "cell_type": "code",
      "source": [
        "from sklearn.linear_model import SGDClassifier\n",
        "\n",
        "text_clf_tfidf = Pipeline([\n",
        "                     ('tfidf', TfidfVectorizer(lowercase=True,\n",
        "                                               stop_words='english',\n",
        "                                               min_df=3,\n",
        "                                               ngram_range=(1,3),\n",
        "                                               token_pattern= r\"(?u)\\b\\w\\w+\\b\")),\n",
        "                     ('clf', SGDClassifier(loss='hinge', penalty='l2', alpha=1e-2, max_iter=20)),\n",
        "\n",
        "])\n",
        "\n",
        "text_clf_tfidf.fit(corpus_train.data, corpus_train.target)\n",
        "predicted = text_clf_tfidf.predict(corpus_test.data)\n",
        "print('Test accuracy for frequency features:', np.mean(predicted == corpus_test.target))"
      ],
      "metadata": {
        "colab": {
          "base_uri": "https://localhost:8080/"
        },
        "id": "JP-pDtLZY8po",
        "outputId": "046a9f9f-d280-40ef-eca8-1b062eaf601d"
      },
      "execution_count": null,
      "outputs": [
        {
          "output_type": "stream",
          "name": "stdout",
          "text": [
            "Test accuracy for frequency features: 0.6894583112055231\n"
          ]
        }
      ]
    },
    {
      "cell_type": "markdown",
      "source": [
        "We can tune the parameters of the vectorizer by constructing a pipeline and using GridSearchCV. We assume the smoothing parameter of the Multinomial Naive Bayes (alpha) is 1."
      ],
      "metadata": {
        "id": "-4R6JEXRzTY9"
      }
    },
    {
      "cell_type": "code",
      "source": [
        "from sklearn.naive_bayes import MultinomialNB\n",
        "\n",
        "text_clf_tfidf = Pipeline([\n",
        "                     ('tfidf', TfidfVectorizer(lowercase=True,\n",
        "                                               stop_words='english',\n",
        "                                               token_pattern= r\"(?u)\\b\\w\\w+\\b\")),\n",
        "                     ('clf', MultinomialNB(alpha=1))\n",
        "\n",
        "])\n",
        "\n",
        "parameters = {\n",
        "    'tfidf__min_df': (1,2,3),\n",
        "    'tfidf__ngram_range': [(1, 1), (1, 2), (1,3)]}\n",
        "\n",
        "gs_clf = GridSearchCV(text_clf_tfidf, parameters, cv=5, n_jobs=-1)\n",
        "gs_clf = gs_clf.fit(remove_underscore(remove_digits(corpus_train.data)), corpus_train.target)\n",
        "\n",
        "print('Mean cross-validated score of the best vectorizer parameters:', gs_clf.best_score_)\n",
        "for param_name in sorted(parameters.keys()):\n",
        "  print(\"%s: %r\" % (param_name, gs_clf.best_params_[param_name]))"
      ],
      "metadata": {
        "colab": {
          "base_uri": "https://localhost:8080/"
        },
        "id": "rY4cNbN4_mbM",
        "outputId": "6231c2df-796b-476d-d50a-5761a17e862c"
      },
      "execution_count": null,
      "outputs": [
        {
          "output_type": "stream",
          "name": "stderr",
          "text": [
            "/usr/local/lib/python3.7/dist-packages/joblib/externals/loky/process_executor.py:705: UserWarning: A worker stopped while some jobs were given to the executor. This can be caused by a too short worker timeout or by a memory leak.\n",
            "  \"timeout or by a memory leak.\", UserWarning\n"
          ]
        },
        {
          "output_type": "stream",
          "name": "stdout",
          "text": [
            "Mean cross-validated score of the best vectorizer parameters: 0.7226449557776603\n",
            "tfidf__min_df: 2\n",
            "tfidf__ngram_range: (1, 2)\n"
          ]
        }
      ]
    }
  ]
}
